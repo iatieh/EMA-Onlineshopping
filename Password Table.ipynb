{
 "cells": [
  {
   "cell_type": "code",
   "execution_count": 23,
   "metadata": {},
   "outputs": [],
   "source": [
    "import sqlite3\n",
    "import re"
   ]
  },
  {
   "cell_type": "code",
   "execution_count": 24,
   "metadata": {},
   "outputs": [],
   "source": [
    "import hashlib"
   ]
  },
  {
   "cell_type": "code",
   "execution_count": 25,
   "metadata": {},
   "outputs": [],
   "source": [
    "import pyotp"
   ]
  },
  {
   "cell_type": "code",
   "execution_count": 26,
   "metadata": {},
   "outputs": [],
   "source": [
    "conn = sqlite3.connect('Users.db')\n",
    "\n",
    "cursor = conn.cursor()"
   ]
  },
  {
   "cell_type": "code",
   "execution_count": 27,
   "metadata": {},
   "outputs": [
    {
     "data": {
      "text/plain": [
       "<sqlite3.Cursor at 0x10c086ce0>"
      ]
     },
     "execution_count": 27,
     "metadata": {},
     "output_type": "execute_result"
    }
   ],
   "source": [
    "cursor.execute(''' CREATE TABLE IF NOT EXISTS users (id INTEGER PRIMARY KEY AUTOINCREMENT, username TEXT, password TEXT, \n",
    "password_hash TEXT, mfa_secret TEXT)''')"
   ]
  },
  {
   "cell_type": "code",
   "execution_count": 29,
   "metadata": {},
   "outputs": [
    {
     "data": {
      "text/plain": [
       "<sqlite3.Cursor at 0x10c086ce0>"
      ]
     },
     "execution_count": 29,
     "metadata": {},
     "output_type": "execute_result"
    }
   ],
   "source": [
    "# Prompt user for username and password\n",
    "username = input(\"Enter your username: \")\n",
    "\n",
    "while True:\n",
    "    # Prompt user for password\n",
    "    password = input(\"Enter your password: \")\n",
    "\n",
    "    # Check if password meets complexity requirements\n",
    "    if (len(password) < 8 or not re.search(\"[a-z]\", password) or not re.search(\"[A-Z]\", password) or not re.search(\"[0-9]\", password) or not re.search(\"[!@#$%^&*()_+]\", password)):\n",
    "        print(\"Password should be at least 8 characters long and contain at least one uppercase letter, one lowercase letter, one digit, and one special character (!@#$%^&*()_+). Please try again.\")\n",
    "    else:\n",
    "        break\n",
    "\n",
    "# Generate a hash of the password using SHA-256\n",
    "password_hash = hashlib.sha256(password.encode()).hexdigest()\n",
    "\n",
    "\n",
    "# Generate a random MFA secret key using the PyOTP library\n",
    "mfa_secret = pyotp.random_base32()\n",
    "\n",
    "# Insert the username and password into the users table\n",
    "cursor.execute('INSERT INTO users (username, password,  mfa_secret) VALUES (?, ?, ?)', (username, password_hash, mfa_secret))\n",
    "\n"
   ]
  },
  {
   "cell_type": "code",
   "execution_count": null,
   "metadata": {},
   "outputs": [],
   "source": [
    "# *=> all \n",
    "query = \"SELECT * FROM users\"\n",
    "cursor.execute(query).fetchall()"
   ]
  },
  {
   "cell_type": "code",
   "execution_count": 31,
   "metadata": {},
   "outputs": [],
   "source": [
    "# Commit the transaction and close the connection\n",
    "conn.commit()\n",
    "conn.close()"
   ]
  },
  {
   "cell_type": "code",
   "execution_count": 37,
   "metadata": {},
   "outputs": [
    {
     "name": "stdout",
     "output_type": "stream",
     "text": [
      "Your MFA secret key is: 2J2HMGQZU42CFJQAQ5FKG2FD4I7WRU73\n",
      "Please scan the QR code below with your MFA app:\n",
      "otpauth://totp/MyApp:Ali?secret=2J2HMGQZU42CFJQAQ5FKG2FD4I7WRU73&issuer=MyApp\n"
     ]
    }
   ],
   "source": [
    "# Prompt user to set up MFA using the secret key\n",
    "print(\"Your MFA secret key is:\", mfa_secret)\n",
    "print(\"Please scan the QR code below with your MFA app:\")\n",
    "print(pyotp.totp.TOTP(mfa_secret).provisioning_uri(name=username, issuer_name='MyApp'))\n",
    "\n",
    "# Prompt user to enter their MFA code\n",
    "mfa_code = input(\"Enter your MFA code: \")\n",
    "\n",
    "# Verify the MFA code using PyOTP\n",
    "totp = pyotp.TOTP(mfa_secret)\n",
    "if not totp.verify(mfa_code):\n",
    "    print(\"Invalid MFA code. Please try again.\")\n"
   ]
  }
 ],
 "metadata": {
  "kernelspec": {
   "display_name": "Python 3",
   "language": "python",
   "name": "python3"
  },
  "language_info": {
   "codemirror_mode": {
    "name": "ipython",
    "version": 3
   },
   "file_extension": ".py",
   "mimetype": "text/x-python",
   "name": "python",
   "nbconvert_exporter": "python",
   "pygments_lexer": "ipython3",
   "version": "3.9.6"
  },
  "orig_nbformat": 4
 },
 "nbformat": 4,
 "nbformat_minor": 2
}
